{
 "cells": [
  {
   "cell_type": "code",
   "execution_count": 33,
   "metadata": {},
   "outputs": [
    {
     "name": "stdout",
     "output_type": "stream",
     "text": [
      "<class 'dict'>\n",
      "dict_keys(['latitude', 'longitude', 'generationtime_ms', 'utc_offset_seconds', 'timezone', 'timezone_abbreviation', 'elevation', 'hourly_units', 'hourly', 'daily_units', 'daily'])\n",
      "         time           sunrise            sunset\n",
      "0  2023-09-16  2023-09-16T03:15  2023-09-16T15:52\n",
      "1  2023-09-17  2023-09-17T03:17  2023-09-17T15:50\n",
      "2  2023-09-18  2023-09-18T03:18  2023-09-18T15:47\n",
      "3  2023-09-19  2023-09-19T03:20  2023-09-19T15:45\n",
      "4  2023-09-20  2023-09-20T03:21  2023-09-20T15:43\n"
     ]
    }
   ],
   "source": [
    "import pandas as pd\n",
    "import requests\n",
    "dodman_latlong = [50.220564,-4.801677]\n",
    "example_endpoint = f'https://api.open-meteo.com/v1/forecast?latitude={dodman_latlong[0]}&longitude={dodman_latlong[0]}&hourly=temperature_2m,precipitation_probability,rain,pressure_msl,cloudcover_low,cloudcover_mid,cloudcover_high,windspeed_10m,winddirection_10m,windgusts_10m&daily=sunrise,sunset&timezone=Europe%2FLondon'\n",
    "test = requests.get(example_endpoint)\n",
    "print(type(test.json()))\n",
    "print(test.json().keys())\n",
    "hourly = pd.DataFrame(test.json()['hourly'], columns=test.json()['hourly_units'])\n",
    "daily = pd.DataFrame(test.json()['daily'],columns=test.json()['daily_units'])\n",
    "\n",
    "print(daily.head())"
   ]
  },
  {
   "cell_type": "markdown",
   "metadata": {},
   "source": [
    "## print out the entire dict"
   ]
  },
  {
   "cell_type": "code",
   "execution_count": 3,
   "metadata": {},
   "outputs": [
    {
     "name": "stdout",
     "output_type": "stream",
     "text": [
      "dict_keys(['latitude', 'longitude', 'generationtime_ms', 'utc_offset_seconds', 'timezone', 'timezone_abbreviation', 'elevation', 'hourly_units', 'hourly', 'daily_units', 'daily'])\n"
     ]
    }
   ],
   "source": [
    "print(test.json().keys())"
   ]
  },
  {
   "cell_type": "markdown",
   "metadata": {},
   "source": [
    "## print hourly"
   ]
  },
  {
   "cell_type": "code",
   "execution_count": 14,
   "metadata": {},
   "outputs": [
    {
     "data": {
      "text/html": [
       "<div>\n",
       "<style scoped>\n",
       "    .dataframe tbody tr th:only-of-type {\n",
       "        vertical-align: middle;\n",
       "    }\n",
       "\n",
       "    .dataframe tbody tr th {\n",
       "        vertical-align: top;\n",
       "    }\n",
       "\n",
       "    .dataframe thead th {\n",
       "        text-align: right;\n",
       "    }\n",
       "</style>\n",
       "<table border=\"1\" class=\"dataframe\">\n",
       "  <thead>\n",
       "    <tr style=\"text-align: right;\">\n",
       "      <th></th>\n",
       "      <th>time</th>\n",
       "      <th>temperature_2m</th>\n",
       "      <th>precipitation_probability</th>\n",
       "      <th>rain</th>\n",
       "      <th>pressure_msl</th>\n",
       "      <th>cloudcover_low</th>\n",
       "      <th>cloudcover_mid</th>\n",
       "      <th>cloudcover_high</th>\n",
       "      <th>windspeed_10m</th>\n",
       "      <th>winddirection_10m</th>\n",
       "      <th>windgusts_10m</th>\n",
       "    </tr>\n",
       "  </thead>\n",
       "  <tbody>\n",
       "    <tr>\n",
       "      <th>0</th>\n",
       "      <td>2023-09-16T00:00</td>\n",
       "      <td>10.5</td>\n",
       "      <td>17</td>\n",
       "      <td>0.0</td>\n",
       "      <td>1019.6</td>\n",
       "      <td>36</td>\n",
       "      <td>49</td>\n",
       "      <td>100</td>\n",
       "      <td>4.7</td>\n",
       "      <td>9</td>\n",
       "      <td>7.9</td>\n",
       "    </tr>\n",
       "    <tr>\n",
       "      <th>1</th>\n",
       "      <td>2023-09-16T01:00</td>\n",
       "      <td>10.3</td>\n",
       "      <td>19</td>\n",
       "      <td>0.0</td>\n",
       "      <td>1019.7</td>\n",
       "      <td>5</td>\n",
       "      <td>25</td>\n",
       "      <td>10</td>\n",
       "      <td>3.8</td>\n",
       "      <td>49</td>\n",
       "      <td>8.3</td>\n",
       "    </tr>\n",
       "    <tr>\n",
       "      <th>2</th>\n",
       "      <td>2023-09-16T02:00</td>\n",
       "      <td>10.0</td>\n",
       "      <td>16</td>\n",
       "      <td>0.0</td>\n",
       "      <td>1019.8</td>\n",
       "      <td>9</td>\n",
       "      <td>10</td>\n",
       "      <td>6</td>\n",
       "      <td>3.4</td>\n",
       "      <td>32</td>\n",
       "      <td>6.8</td>\n",
       "    </tr>\n",
       "    <tr>\n",
       "      <th>3</th>\n",
       "      <td>2023-09-16T03:00</td>\n",
       "      <td>9.5</td>\n",
       "      <td>13</td>\n",
       "      <td>0.0</td>\n",
       "      <td>1020.1</td>\n",
       "      <td>41</td>\n",
       "      <td>23</td>\n",
       "      <td>0</td>\n",
       "      <td>3.3</td>\n",
       "      <td>6</td>\n",
       "      <td>5.0</td>\n",
       "    </tr>\n",
       "    <tr>\n",
       "      <th>4</th>\n",
       "      <td>2023-09-16T04:00</td>\n",
       "      <td>9.3</td>\n",
       "      <td>10</td>\n",
       "      <td>0.0</td>\n",
       "      <td>1020.0</td>\n",
       "      <td>61</td>\n",
       "      <td>3</td>\n",
       "      <td>0</td>\n",
       "      <td>4.0</td>\n",
       "      <td>355</td>\n",
       "      <td>8.3</td>\n",
       "    </tr>\n",
       "  </tbody>\n",
       "</table>\n",
       "</div>"
      ],
      "text/plain": [
       "               time  temperature_2m  precipitation_probability  rain  \\\n",
       "0  2023-09-16T00:00            10.5                         17   0.0   \n",
       "1  2023-09-16T01:00            10.3                         19   0.0   \n",
       "2  2023-09-16T02:00            10.0                         16   0.0   \n",
       "3  2023-09-16T03:00             9.5                         13   0.0   \n",
       "4  2023-09-16T04:00             9.3                         10   0.0   \n",
       "\n",
       "   pressure_msl  cloudcover_low  cloudcover_mid  cloudcover_high  \\\n",
       "0        1019.6              36              49              100   \n",
       "1        1019.7               5              25               10   \n",
       "2        1019.8               9              10                6   \n",
       "3        1020.1              41              23                0   \n",
       "4        1020.0              61               3                0   \n",
       "\n",
       "   windspeed_10m  winddirection_10m  windgusts_10m  \n",
       "0            4.7                  9            7.9  \n",
       "1            3.8                 49            8.3  \n",
       "2            3.4                 32            6.8  \n",
       "3            3.3                  6            5.0  \n",
       "4            4.0                355            8.3  "
      ]
     },
     "execution_count": 14,
     "metadata": {},
     "output_type": "execute_result"
    }
   ],
   "source": [
    "hourly.head(5)"
   ]
  },
  {
   "cell_type": "markdown",
   "metadata": {},
   "source": [
    "## Get timestamp, and return appropriate column"
   ]
  },
  {
   "cell_type": "code",
   "execution_count": 36,
   "metadata": {},
   "outputs": [
    {
     "name": "stdout",
     "output_type": "stream",
     "text": [
      "['2023-09-16T10:59:28' 17.4 3 0.0 1020.2 56 88 0 10.4 2 19.8]\n",
      "['2023-09-16T10:59:28' '2023-09-16T03:15' '2023-09-16T15:52']\n"
     ]
    }
   ],
   "source": [
    "import datetime\n",
    "import pandas as pd\n",
    "import requests\n",
    "\n",
    "def get_hourly_weather_from_timestamp(endpoint):\n",
    "    \"\"\"Returns the correct row from the hourly dataframe for a given timestamp\"\"\"\n",
    "    test = requests.get(example_endpoint)\n",
    "    current_time = datetime.datetime.now()\n",
    "    formatted_time = current_time.strftime('%Y-%m-%dT%H:00')\n",
    "    hourly = pd.DataFrame(test.json()['hourly'], columns=test.json()['hourly_units'])\n",
    "    matching_row = hourly[hourly['time'] == formatted_time].reset_index(drop=True)\n",
    "    matching_row = matching_row.values[0]\n",
    "    return_time = current_time.strftime('%Y-%m-%dT%H:%M:%S')\n",
    "    matching_row[0] = return_time\n",
    "   \n",
    "    return matching_row\n",
    "\n",
    "def get_daily_weather_from_timestamp(endpoint):\n",
    "    \"\"\"Returns the correct row from the daily dataframe for a given timestamp\"\"\"\n",
    "    test = requests.get(example_endpoint)\n",
    "    current_time = datetime.datetime.now()\n",
    "    formatted_date_str = current_time.strftime('%Y-%m-%d')\n",
    "    matching_row_daily = daily[daily['time'] == formatted_date_str].reset_index(drop=True)\n",
    "    matching_row_daily = matching_row_daily.values[0]\n",
    "    return_date = current_time.strftime('%Y-%m-%dT%H:%M:%S')\n",
    "    matching_row_daily[0] = return_date\n",
    "    return matching_row_daily\n",
    "\n",
    "def get_weather_col_names(endpoint, hourly_flag=True):\n",
    "    \"\"\"Returns the column names from the endpoint, hourly cols if hourlyflag is True, else daily cols\"\"\"\n",
    "    try:\n",
    "        test = requests.get(endpoint)\n",
    "        test.raise_for_status()\n",
    "        if hourly_flag:\n",
    "            return test.json()['hourly_units']\n",
    "        else:\n",
    "            return test.json()['daily_units']\n",
    "    except requests.exceptions.HTTPError as err:\n",
    "        raise SystemExit(err)\n",
    "\n",
    "\n",
    "dodman_latlong = [50.220564,-4.801677]\n",
    "example_endpoint = f'https://api.open-meteo.com/v1/forecast?latitude={dodman_latlong[0]}&longitude={dodman_latlong[0]}&hourly=temperature_2m,precipitation_probability,rain,pressure_msl,cloudcover_low,cloudcover_mid,cloudcover_high,windspeed_10m,winddirection_10m,windgusts_10m&daily=sunrise,sunset&timezone=Europe%2FLondon'\n",
    "matching_row_hourly = get_hourly_weather_from_timestamp(example_endpoint)\n",
    "matching_row_daily = get_daily_weather_from_timestamp(example_endpoint)\n",
    "\n",
    "print(matching_row_hourly)\n",
    "print(matching_row_daily)\n"
   ]
  }
 ],
 "metadata": {
  "kernelspec": {
   "display_name": "api_env",
   "language": "python",
   "name": "python3"
  },
  "language_info": {
   "codemirror_mode": {
    "name": "ipython",
    "version": 3
   },
   "file_extension": ".py",
   "mimetype": "text/x-python",
   "name": "python",
   "nbconvert_exporter": "python",
   "pygments_lexer": "ipython3",
   "version": "3.11.3"
  },
  "orig_nbformat": 4
 },
 "nbformat": 4,
 "nbformat_minor": 2
}
